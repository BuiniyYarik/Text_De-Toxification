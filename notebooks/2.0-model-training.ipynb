{
 "cells": [
  {
   "cell_type": "code",
   "execution_count": 1,
   "id": "initial_id",
   "metadata": {
    "collapsed": true,
    "ExecuteTime": {
     "end_time": "2023-11-05T17:43:00.559274100Z",
     "start_time": "2023-11-05T17:42:58.223273800Z"
    }
   },
   "outputs": [],
   "source": [
    "from transformers import BertForSequenceClassification, BertTokenizer, get_linear_schedule_with_warmup\n",
    "from torch.optim import AdamW\n",
    "from src.data.make_dataset import DataProcessor\n",
    "from src.models.train_model import train_model, evaluate_model"
   ]
  },
  {
   "cell_type": "markdown",
   "source": [
    "##### Load the data"
   ],
   "metadata": {
    "collapsed": false
   },
   "id": "b3dcb14e5d790755"
  },
  {
   "cell_type": "code",
   "execution_count": 2,
   "outputs": [],
   "source": [
    "# Path to the dataset\n",
    "file_path = '../data/raw/filtered.tsv'\n",
    "\n",
    "# Load the tokenizer\n",
    "tokenizer = BertTokenizer.from_pretrained('bert-base-uncased')"
   ],
   "metadata": {
    "collapsed": false,
    "ExecuteTime": {
     "end_time": "2023-11-05T17:43:01.176274400Z",
     "start_time": "2023-11-05T17:43:00.560274100Z"
    }
   },
   "id": "79f9a7ac3ebc0724"
  },
  {
   "cell_type": "markdown",
   "source": [
    "##### Preprocess the data and create data loaders"
   ],
   "metadata": {
    "collapsed": false
   },
   "id": "fe315bb99b5682b5"
  },
  {
   "cell_type": "code",
   "execution_count": 3,
   "outputs": [
    {
     "name": "stderr",
     "output_type": "stream",
     "text": [
      "[nltk_data] Downloading package stopwords to\n",
      "[nltk_data]     C:\\Users\\sokos\\AppData\\Roaming\\nltk_data...\n",
      "[nltk_data]   Package stopwords is already up-to-date!\n",
      "[nltk_data] Downloading package wordnet to\n",
      "[nltk_data]     C:\\Users\\sokos\\AppData\\Roaming\\nltk_data...\n",
      "[nltk_data]   Package wordnet is already up-to-date!\n"
     ]
    }
   ],
   "source": [
    "# Set the size of the dataset\n",
    "dataset_size = 100\n",
    "\n",
    "# Create the data loaders\n",
    "data_processor = DataProcessor(file_path, tokenizer, dataset_size)\n",
    "train_loader, val_loader = data_processor.process()"
   ],
   "metadata": {
    "collapsed": false,
    "ExecuteTime": {
     "end_time": "2023-11-05T17:43:03.430427900Z",
     "start_time": "2023-11-05T17:43:01.176274400Z"
    }
   },
   "id": "a03e4fd60183e9e1"
  },
  {
   "cell_type": "markdown",
   "source": [
    "##### Train the model"
   ],
   "metadata": {
    "collapsed": false
   },
   "id": "8b8db15c4b8c207e"
  },
  {
   "cell_type": "code",
   "execution_count": 4,
   "outputs": [
    {
     "name": "stderr",
     "output_type": "stream",
     "text": [
      "Some weights of BertForSequenceClassification were not initialized from the model checkpoint at bert-base-uncased and are newly initialized: ['classifier.weight', 'classifier.bias']\n",
      "You should probably TRAIN this model on a down-stream task to be able to use it for predictions and inference.\n"
     ]
    }
   ],
   "source": [
    "# Initialize the model and optimizer\n",
    "model = BertForSequenceClassification.from_pretrained('bert-base-uncased')\n",
    "optimizer = AdamW(model.parameters(), lr=5e-5)\n",
    "\n",
    "# Initialize the learning rate scheduler\n",
    "epochs = 2\n",
    "scheduler = get_linear_schedule_with_warmup(optimizer, num_warmup_steps=0, num_training_steps=len(train_loader)*epochs)"
   ],
   "metadata": {
    "collapsed": false,
    "ExecuteTime": {
     "end_time": "2023-11-05T17:43:04.444427300Z",
     "start_time": "2023-11-05T17:43:03.431428300Z"
    }
   },
   "id": "dfb8e7e1dafd8b7f"
  },
  {
   "cell_type": "code",
   "execution_count": 5,
   "outputs": [
    {
     "data": {
      "text/plain": "  0%|          | 0/3 [00:00<?, ?it/s]",
      "application/vnd.jupyter.widget-view+json": {
       "version_major": 2,
       "version_minor": 0,
       "model_id": "175dce3b8be44a0fae05735ada17afb4"
      }
     },
     "metadata": {},
     "output_type": "display_data"
    },
    {
     "data": {
      "text/plain": "  0%|          | 0/3 [00:00<?, ?it/s]",
      "application/vnd.jupyter.widget-view+json": {
       "version_major": 2,
       "version_minor": 0,
       "model_id": "b33b3f59800f433fa10b156ac56576ba"
      }
     },
     "metadata": {},
     "output_type": "display_data"
    }
   ],
   "source": [
    "# Train the model\n",
    "train_model(model, train_loader, optimizer, scheduler, epochs)"
   ],
   "metadata": {
    "collapsed": false,
    "ExecuteTime": {
     "end_time": "2023-11-05T17:43:22.187312500Z",
     "start_time": "2023-11-05T17:43:04.457427300Z"
    }
   },
   "id": "3715db4ddfa67173"
  },
  {
   "cell_type": "markdown",
   "source": [
    "##### Evaluate the model"
   ],
   "metadata": {
    "collapsed": false
   },
   "id": "b55e059e785b0d74"
  },
  {
   "cell_type": "code",
   "execution_count": 6,
   "outputs": [
    {
     "name": "stdout",
     "output_type": "stream",
     "text": [
      "Validation Accuracy: 0.6\n"
     ]
    },
    {
     "data": {
      "text/plain": "0.6"
     },
     "execution_count": 6,
     "metadata": {},
     "output_type": "execute_result"
    }
   ],
   "source": [
    "evaluate_model(model, val_loader)"
   ],
   "metadata": {
    "collapsed": false,
    "ExecuteTime": {
     "end_time": "2023-11-05T17:43:26.177743900Z",
     "start_time": "2023-11-05T17:43:22.187312500Z"
    }
   },
   "id": "330719b698f30e61"
  }
 ],
 "metadata": {
  "kernelspec": {
   "display_name": "Python 3",
   "language": "python",
   "name": "python3"
  },
  "language_info": {
   "codemirror_mode": {
    "name": "ipython",
    "version": 2
   },
   "file_extension": ".py",
   "mimetype": "text/x-python",
   "name": "python",
   "nbconvert_exporter": "python",
   "pygments_lexer": "ipython2",
   "version": "2.7.6"
  }
 },
 "nbformat": 4,
 "nbformat_minor": 5
}
