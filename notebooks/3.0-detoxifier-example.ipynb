{
 "cells": [
  {
   "cell_type": "code",
   "execution_count": 1,
   "id": "initial_id",
   "metadata": {
    "collapsed": true,
    "ExecuteTime": {
     "end_time": "2023-11-05T18:03:20.529655Z",
     "start_time": "2023-11-05T18:03:19.000951400Z"
    }
   },
   "outputs": [],
   "source": [
    "from src.models.predict_model import TextDetoxifier"
   ]
  },
  {
   "cell_type": "markdown",
   "source": [
    "##### Text Detoxifier Initialization"
   ],
   "metadata": {
    "collapsed": false
   },
   "id": "499c85cc7eb5ed0b"
  },
  {
   "cell_type": "code",
   "execution_count": 2,
   "outputs": [],
   "source": [
    "# Path to the trained model\n",
    "model_path = \"../models/bert_for_sequence_classification\"\n",
    "\n",
    "# Initialize the TextDetoxifier class with your model\n",
    "text_detoxifier = TextDetoxifier(model_path)"
   ],
   "metadata": {
    "collapsed": false,
    "ExecuteTime": {
     "end_time": "2023-11-05T18:03:21.733655100Z",
     "start_time": "2023-11-05T18:03:20.530655Z"
    }
   },
   "id": "234aa375231471e1"
  },
  {
   "cell_type": "markdown",
   "source": [
    "##### Text Detoxifier Prediction Example"
   ],
   "metadata": {
    "collapsed": false
   },
   "id": "733c01aac38f1b94"
  },
  {
   "cell_type": "code",
   "execution_count": 3,
   "outputs": [
    {
     "name": "stdout",
     "output_type": "stream",
     "text": [
      "Text: This is a really good movie!\n",
      "Prediction: non-toxic\n",
      "\n",
      "Text: I hate this game, it's terrible.\n",
      "Prediction: non-toxic\n",
      "\n",
      "Text: I don't know how I feel about this.\n",
      "Prediction: non-toxic\n",
      "\n",
      "Text: Fuck this\n",
      "Prediction: non-toxic\n"
     ]
    }
   ],
   "source": [
    "# Example text to classify\n",
    "example_texts = [\n",
    "    \"This is a really good movie!\",\n",
    "    \"I hate this game, it's terrible.\",\n",
    "    \"I don't know how I feel about this.\",\n",
    "    \"Fuck this TV show.\"\n",
    "]\n",
    "\n",
    "# Make predictions using the model\n",
    "predictions = text_detoxifier.predict(example_texts)\n",
    "\n",
    "# Output the predictions\n",
    "for text, prediction in zip(example_texts, predictions):\n",
    "    print(f\"Text: {text}\\nPrediction: {prediction}\\n\")"
   ],
   "metadata": {
    "collapsed": false,
    "ExecuteTime": {
     "end_time": "2023-11-05T18:03:22.171654600Z",
     "start_time": "2023-11-05T18:03:21.734654100Z"
    }
   },
   "id": "33489452bcd422e9"
  }
 ],
 "metadata": {
  "kernelspec": {
   "display_name": "Python 3",
   "language": "python",
   "name": "python3"
  },
  "language_info": {
   "codemirror_mode": {
    "name": "ipython",
    "version": 2
   },
   "file_extension": ".py",
   "mimetype": "text/x-python",
   "name": "python",
   "nbconvert_exporter": "python",
   "pygments_lexer": "ipython2",
   "version": "2.7.6"
  }
 },
 "nbformat": 4,
 "nbformat_minor": 5
}
