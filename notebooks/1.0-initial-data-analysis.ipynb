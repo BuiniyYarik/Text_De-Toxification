{
 "cells": [
  {
   "cell_type": "markdown",
   "source": [
    "# Data Exploration and Preprocessing\n",
    "\n",
    "This notebook is dedicated to the initial exploration and preprocessing of the dataset. We aim to understand the data's structure, content, and any inherent patterns or anomalies that may exist.\n"
   ],
   "metadata": {
    "collapsed": false
   },
   "id": "70fee65d4554975c"
  },
  {
   "cell_type": "markdown",
   "source": [
    "##### Read the uploaded TSV file to understand its structure and contents"
   ],
   "metadata": {
    "collapsed": false
   },
   "id": "43f513e2f1d51063"
  },
  {
   "cell_type": "code",
   "execution_count": 6,
   "outputs": [],
   "source": [
    "import pandas as pd"
   ],
   "metadata": {
    "collapsed": false,
    "ExecuteTime": {
     "end_time": "2023-11-05T17:12:37.460190Z",
     "start_time": "2023-11-05T17:12:37.449190700Z"
    }
   },
   "id": "49d14353e2673f8f"
  },
  {
   "cell_type": "code",
   "execution_count": 9,
   "outputs": [
    {
     "data": {
      "text/plain": "    Unnamed: 0                                          reference  \\\n0            0  If Alkar is flooding her with psychic waste, t...   \n1            1                          Now you're getting nasty.   \n2            2           Well, we could spare your life, for one.   \n3            3          Ah! Monkey, you've got to snap out of it.   \n4            4                   I've got orders to put her down.   \n..         ...                                                ...   \n95          95  But if somebody rob me and end up dead... Well...   \n96          96                      Wouldn't happen to be Latino?   \n97          97                           Really fucking annoying.   \n98          98  'Don't you even turn around, you . . . you tur...   \n99          99  When you're throwing away a monkey, you don't ...   \n\n                                          translation  similarity  \\\n0   if Alkar floods her with her mental waste, it ...    0.785171   \n1                         you're becoming disgusting.    0.749687   \n2                       well, we can spare your life.    0.919051   \n3                        monkey, you have to wake up.    0.664333   \n4                          I have orders to kill her.    0.726639   \n..                                                ...         ...   \n95  but if someone robbed me and died... well, you...    0.846546   \n96                 you couldn't be Latino, would you?    0.680294   \n97                              it's pretty annoying.    0.804867   \n98          \"don't even look back, you... you pussy.\"    0.616171   \n99  when we're kicking a monkey, he doesn't need a...    0.765862   \n\n    lenght_diff   ref_tox   trn_tox  \n0      0.010309  0.014195  0.981983  \n1      0.071429  0.065473  0.999039  \n2      0.268293  0.213313  0.985068  \n3      0.309524  0.053362  0.994215  \n4      0.181818  0.009402  0.999348  \n..          ...       ...       ...  \n95     0.048780  0.998804  0.026040  \n96     0.142857  0.000896  0.748527  \n97     0.120000  0.986967  0.001366  \n98     0.363636  0.311901  0.999517  \n99     0.119403  0.008417  0.965371  \n\n[100 rows x 7 columns]",
      "text/html": "<div>\n<style scoped>\n    .dataframe tbody tr th:only-of-type {\n        vertical-align: middle;\n    }\n\n    .dataframe tbody tr th {\n        vertical-align: top;\n    }\n\n    .dataframe thead th {\n        text-align: right;\n    }\n</style>\n<table border=\"1\" class=\"dataframe\">\n  <thead>\n    <tr style=\"text-align: right;\">\n      <th></th>\n      <th>Unnamed: 0</th>\n      <th>reference</th>\n      <th>translation</th>\n      <th>similarity</th>\n      <th>lenght_diff</th>\n      <th>ref_tox</th>\n      <th>trn_tox</th>\n    </tr>\n  </thead>\n  <tbody>\n    <tr>\n      <th>0</th>\n      <td>0</td>\n      <td>If Alkar is flooding her with psychic waste, t...</td>\n      <td>if Alkar floods her with her mental waste, it ...</td>\n      <td>0.785171</td>\n      <td>0.010309</td>\n      <td>0.014195</td>\n      <td>0.981983</td>\n    </tr>\n    <tr>\n      <th>1</th>\n      <td>1</td>\n      <td>Now you're getting nasty.</td>\n      <td>you're becoming disgusting.</td>\n      <td>0.749687</td>\n      <td>0.071429</td>\n      <td>0.065473</td>\n      <td>0.999039</td>\n    </tr>\n    <tr>\n      <th>2</th>\n      <td>2</td>\n      <td>Well, we could spare your life, for one.</td>\n      <td>well, we can spare your life.</td>\n      <td>0.919051</td>\n      <td>0.268293</td>\n      <td>0.213313</td>\n      <td>0.985068</td>\n    </tr>\n    <tr>\n      <th>3</th>\n      <td>3</td>\n      <td>Ah! Monkey, you've got to snap out of it.</td>\n      <td>monkey, you have to wake up.</td>\n      <td>0.664333</td>\n      <td>0.309524</td>\n      <td>0.053362</td>\n      <td>0.994215</td>\n    </tr>\n    <tr>\n      <th>4</th>\n      <td>4</td>\n      <td>I've got orders to put her down.</td>\n      <td>I have orders to kill her.</td>\n      <td>0.726639</td>\n      <td>0.181818</td>\n      <td>0.009402</td>\n      <td>0.999348</td>\n    </tr>\n    <tr>\n      <th>...</th>\n      <td>...</td>\n      <td>...</td>\n      <td>...</td>\n      <td>...</td>\n      <td>...</td>\n      <td>...</td>\n      <td>...</td>\n    </tr>\n    <tr>\n      <th>95</th>\n      <td>95</td>\n      <td>But if somebody rob me and end up dead... Well...</td>\n      <td>but if someone robbed me and died... well, you...</td>\n      <td>0.846546</td>\n      <td>0.048780</td>\n      <td>0.998804</td>\n      <td>0.026040</td>\n    </tr>\n    <tr>\n      <th>96</th>\n      <td>96</td>\n      <td>Wouldn't happen to be Latino?</td>\n      <td>you couldn't be Latino, would you?</td>\n      <td>0.680294</td>\n      <td>0.142857</td>\n      <td>0.000896</td>\n      <td>0.748527</td>\n    </tr>\n    <tr>\n      <th>97</th>\n      <td>97</td>\n      <td>Really fucking annoying.</td>\n      <td>it's pretty annoying.</td>\n      <td>0.804867</td>\n      <td>0.120000</td>\n      <td>0.986967</td>\n      <td>0.001366</td>\n    </tr>\n    <tr>\n      <th>98</th>\n      <td>98</td>\n      <td>'Don't you even turn around, you . . . you tur...</td>\n      <td>\"don't even look back, you... you pussy.\"</td>\n      <td>0.616171</td>\n      <td>0.363636</td>\n      <td>0.311901</td>\n      <td>0.999517</td>\n    </tr>\n    <tr>\n      <th>99</th>\n      <td>99</td>\n      <td>When you're throwing away a monkey, you don't ...</td>\n      <td>when we're kicking a monkey, he doesn't need a...</td>\n      <td>0.765862</td>\n      <td>0.119403</td>\n      <td>0.008417</td>\n      <td>0.965371</td>\n    </tr>\n  </tbody>\n</table>\n<p>100 rows × 7 columns</p>\n</div>"
     },
     "execution_count": 9,
     "metadata": {},
     "output_type": "execute_result"
    }
   ],
   "source": [
    "# Load the TSV file into a DataFrame\n",
    "file_path = '../data/raw/filtered.tsv'\n",
    "data = pd.read_csv(file_path, sep='\\t')\n",
    "\n",
    "data.head()"
   ],
   "metadata": {
    "collapsed": false,
    "ExecuteTime": {
     "end_time": "2023-11-05T17:13:09.592740800Z",
     "start_time": "2023-11-05T17:13:07.850550800Z"
    }
   },
   "id": "c0a83c3ce465bfce"
  },
  {
   "cell_type": "markdown",
   "source": [
    "##### Data Exploration"
   ],
   "metadata": {
    "collapsed": false
   },
   "id": "ca21fcc6760ac606"
  },
  {
   "cell_type": "code",
   "execution_count": 10,
   "outputs": [
    {
     "data": {
      "text/plain": "Unnamed: 0     0\nreference      0\ntranslation    0\nsimilarity     0\nlenght_diff    0\nref_tox        0\ntrn_tox        0\ndtype: int64"
     },
     "execution_count": 10,
     "metadata": {},
     "output_type": "execute_result"
    }
   ],
   "source": [
    "# Descriptive statistics for numeric features\n",
    "data_description = data.describe()\n",
    "\n",
    "# Check for missing values\n",
    "missing_values = data.isnull().sum()\n",
    "\n",
    "# Distribution of Toxicity Levels\n",
    "toxicity_distribution_ref = data['ref_tox'].describe()\n",
    "toxicity_distribution_trn = data['trn_tox'].describe()\n",
    "\n",
    "# Prepare data for histogram plots of toxicity levels\n",
    "toxicity_levels_ref = data['ref_tox']\n",
    "toxicity_levels_trn = data['trn_tox']\n",
    "\n",
    "data_description, missing_values, toxicity_distribution_ref, toxicity_distribution_trn, toxicity_levels_ref, toxicity_levels_trn"
   ],
   "metadata": {
    "collapsed": false,
    "ExecuteTime": {
     "end_time": "2023-11-05T17:13:31.045485400Z",
     "start_time": "2023-11-05T17:13:30.916350400Z"
    }
   },
   "id": "3de8f696efa5155"
  },
  {
   "cell_type": "code",
   "execution_count": null,
   "outputs": [],
   "source": [
    "import matplotlib.pyplot as plt"
   ],
   "metadata": {
    "collapsed": false
   },
   "id": "56ab9598ee17d2eb"
  },
  {
   "cell_type": "code",
   "execution_count": null,
   "outputs": [],
   "source": [
    "# Plotting histograms for toxicity distribution\n",
    "plt.figure(figsize=(14, 6))\n",
    "\n",
    "# Histogram for reference toxicity levels\n",
    "plt.subplot(1, 2, 1)\n",
    "plt.hist(toxicity_levels_ref, bins=50, color='blue', alpha=0.7)\n",
    "plt.title('Distribution of Reference Toxicity Levels')\n",
    "plt.xlabel('Toxicity Level')\n",
    "plt.ylabel('Frequency')\n",
    "\n",
    "# Histogram for translation toxicity levels\n",
    "plt.subplot(1, 2, 2)\n",
    "plt.hist(toxicity_levels_trn, bins=50, color='green', alpha=0.7)\n",
    "plt.title('Distribution of Translation Toxicity Levels')\n",
    "plt.xlabel('Toxicity Level')\n",
    "plt.ylabel('Frequency')\n",
    "\n",
    "# Show the plot\n",
    "plt.tight_layout()\n",
    "plt.show()"
   ],
   "metadata": {
    "collapsed": false
   },
   "id": "990a239c58a03287"
  },
  {
   "cell_type": "markdown",
   "source": [
    "The histograms show the distribution of toxicity levels for both reference and translation sentences:\n",
    "\n",
    "- The blue histogram represents the toxicity levels of the reference sentences. It shows a bimodal distribution with peaks at the lower and higher ends of the toxicity scale, indicating that the dataset contains a mix of sentences with low and high levels of toxicity.\n",
    "- The green histogram represents the toxicity levels of the translation sentences. This distribution is more skewed towards lower toxicity levels, which is expected since these sentences are the detoxified versions of their reference counterparts."
   ],
   "metadata": {
    "collapsed": false
   },
   "id": "6cefda222b1ff120"
  }
 ],
 "metadata": {
  "kernelspec": {
   "display_name": "Python 3",
   "language": "python",
   "name": "python3"
  },
  "language_info": {
   "codemirror_mode": {
    "name": "ipython",
    "version": 2
   },
   "file_extension": ".py",
   "mimetype": "text/x-python",
   "name": "python",
   "nbconvert_exporter": "python",
   "pygments_lexer": "ipython2",
   "version": "2.7.6"
  }
 },
 "nbformat": 4,
 "nbformat_minor": 5
}
