{
 "cells": [
  {
   "cell_type": "markdown",
   "source": [
    "# Data Exploration and Preprocessing\n",
    "\n",
    "This notebook is dedicated to the initial exploration and preprocessing of the dataset. We aim to understand the data's structure, content, and any inherent patterns or anomalies that may exist.\n"
   ],
   "metadata": {
    "collapsed": false
   },
   "id": "70fee65d4554975c"
  },
  {
   "cell_type": "markdown",
   "source": [
    "##### Read the uploaded TSV file to understand its structure and contents"
   ],
   "metadata": {
    "collapsed": false
   },
   "id": "43f513e2f1d51063"
  },
  {
   "cell_type": "code",
   "execution_count": 8,
   "outputs": [],
   "source": [
    "import pandas as pd"
   ],
   "metadata": {
    "collapsed": false,
    "ExecuteTime": {
     "end_time": "2023-11-05T20:59:11.488444700Z",
     "start_time": "2023-11-05T20:59:11.479444Z"
    }
   },
   "id": "49d14353e2673f8f"
  },
  {
   "cell_type": "code",
   "execution_count": 9,
   "outputs": [
    {
     "data": {
      "text/plain": "   Unnamed: 0                                          reference  \\\n0           0  If Alkar is flooding her with psychic waste, t...   \n1           1                          Now you're getting nasty.   \n2           2           Well, we could spare your life, for one.   \n3           3          Ah! Monkey, you've got to snap out of it.   \n4           4                   I've got orders to put her down.   \n\n                                         translation  similarity  lenght_diff  \\\n0  if Alkar floods her with her mental waste, it ...    0.785171     0.010309   \n1                        you're becoming disgusting.    0.749687     0.071429   \n2                      well, we can spare your life.    0.919051     0.268293   \n3                       monkey, you have to wake up.    0.664333     0.309524   \n4                         I have orders to kill her.    0.726639     0.181818   \n\n    ref_tox   trn_tox  \n0  0.014195  0.981983  \n1  0.065473  0.999039  \n2  0.213313  0.985068  \n3  0.053362  0.994215  \n4  0.009402  0.999348  ",
      "text/html": "<div>\n<style scoped>\n    .dataframe tbody tr th:only-of-type {\n        vertical-align: middle;\n    }\n\n    .dataframe tbody tr th {\n        vertical-align: top;\n    }\n\n    .dataframe thead th {\n        text-align: right;\n    }\n</style>\n<table border=\"1\" class=\"dataframe\">\n  <thead>\n    <tr style=\"text-align: right;\">\n      <th></th>\n      <th>Unnamed: 0</th>\n      <th>reference</th>\n      <th>translation</th>\n      <th>similarity</th>\n      <th>lenght_diff</th>\n      <th>ref_tox</th>\n      <th>trn_tox</th>\n    </tr>\n  </thead>\n  <tbody>\n    <tr>\n      <th>0</th>\n      <td>0</td>\n      <td>If Alkar is flooding her with psychic waste, t...</td>\n      <td>if Alkar floods her with her mental waste, it ...</td>\n      <td>0.785171</td>\n      <td>0.010309</td>\n      <td>0.014195</td>\n      <td>0.981983</td>\n    </tr>\n    <tr>\n      <th>1</th>\n      <td>1</td>\n      <td>Now you're getting nasty.</td>\n      <td>you're becoming disgusting.</td>\n      <td>0.749687</td>\n      <td>0.071429</td>\n      <td>0.065473</td>\n      <td>0.999039</td>\n    </tr>\n    <tr>\n      <th>2</th>\n      <td>2</td>\n      <td>Well, we could spare your life, for one.</td>\n      <td>well, we can spare your life.</td>\n      <td>0.919051</td>\n      <td>0.268293</td>\n      <td>0.213313</td>\n      <td>0.985068</td>\n    </tr>\n    <tr>\n      <th>3</th>\n      <td>3</td>\n      <td>Ah! Monkey, you've got to snap out of it.</td>\n      <td>monkey, you have to wake up.</td>\n      <td>0.664333</td>\n      <td>0.309524</td>\n      <td>0.053362</td>\n      <td>0.994215</td>\n    </tr>\n    <tr>\n      <th>4</th>\n      <td>4</td>\n      <td>I've got orders to put her down.</td>\n      <td>I have orders to kill her.</td>\n      <td>0.726639</td>\n      <td>0.181818</td>\n      <td>0.009402</td>\n      <td>0.999348</td>\n    </tr>\n  </tbody>\n</table>\n</div>"
     },
     "execution_count": 9,
     "metadata": {},
     "output_type": "execute_result"
    }
   ],
   "source": [
    "# Load the TSV file into a DataFrame\n",
    "file_path = '../data/raw/filtered.tsv'\n",
    "data = pd.read_csv(file_path, sep='\\t')\n",
    "\n",
    "data.head()"
   ],
   "metadata": {
    "collapsed": false,
    "ExecuteTime": {
     "end_time": "2023-11-05T20:59:12.406462700Z",
     "start_time": "2023-11-05T20:59:11.491445Z"
    }
   },
   "id": "c0a83c3ce465bfce"
  },
  {
   "cell_type": "markdown",
   "source": [
    "##### Data Exploration"
   ],
   "metadata": {
    "collapsed": false
   },
   "id": "ca21fcc6760ac606"
  },
  {
   "cell_type": "code",
   "execution_count": 10,
   "outputs": [],
   "source": [
    "# Descriptive statistics for numeric features\n",
    "data_description = data.describe()\n",
    "\n",
    "# Check for missing values\n",
    "missing_values = data.isnull().sum()\n",
    "\n",
    "# Distribution of Toxicity Levels\n",
    "toxicity_distribution_ref = data['ref_tox'].describe()\n",
    "toxicity_distribution_trn = data['trn_tox'].describe()\n",
    "\n",
    "# Prepare data for histogram plots of toxicity levels\n",
    "toxicity_levels_ref = data['ref_tox']\n",
    "toxicity_levels_trn = data['trn_tox']"
   ],
   "metadata": {
    "collapsed": false,
    "ExecuteTime": {
     "end_time": "2023-11-05T20:59:12.560781Z",
     "start_time": "2023-11-05T20:59:12.407462300Z"
    }
   },
   "id": "ab81579e5ec9027b"
  },
  {
   "cell_type": "code",
   "execution_count": 11,
   "outputs": [
    {
     "data": {
      "text/plain": "          Unnamed: 0     similarity    lenght_diff        ref_tox  \\\ncount  577777.000000  577777.000000  577777.000000  577777.000000   \nmean   288888.000000       0.758469       0.157652       0.541372   \nstd    166789.997578       0.092695       0.108057       0.457571   \nmin         0.000000       0.600001       0.000000       0.000033   \n25%    144444.000000       0.681105       0.066667       0.012171   \n50%    288888.000000       0.754439       0.141791       0.806795   \n75%    433332.000000       0.831244       0.238095       0.990469   \nmax    577776.000000       0.950000       0.400000       0.999724   \n\n             trn_tox  \ncount  577777.000000  \nmean        0.434490  \nstd         0.458904  \nmin         0.000033  \n25%         0.000707  \n50%         0.085133  \n75%         0.973739  \nmax         0.999730  ",
      "text/html": "<div>\n<style scoped>\n    .dataframe tbody tr th:only-of-type {\n        vertical-align: middle;\n    }\n\n    .dataframe tbody tr th {\n        vertical-align: top;\n    }\n\n    .dataframe thead th {\n        text-align: right;\n    }\n</style>\n<table border=\"1\" class=\"dataframe\">\n  <thead>\n    <tr style=\"text-align: right;\">\n      <th></th>\n      <th>Unnamed: 0</th>\n      <th>similarity</th>\n      <th>lenght_diff</th>\n      <th>ref_tox</th>\n      <th>trn_tox</th>\n    </tr>\n  </thead>\n  <tbody>\n    <tr>\n      <th>count</th>\n      <td>577777.000000</td>\n      <td>577777.000000</td>\n      <td>577777.000000</td>\n      <td>577777.000000</td>\n      <td>577777.000000</td>\n    </tr>\n    <tr>\n      <th>mean</th>\n      <td>288888.000000</td>\n      <td>0.758469</td>\n      <td>0.157652</td>\n      <td>0.541372</td>\n      <td>0.434490</td>\n    </tr>\n    <tr>\n      <th>std</th>\n      <td>166789.997578</td>\n      <td>0.092695</td>\n      <td>0.108057</td>\n      <td>0.457571</td>\n      <td>0.458904</td>\n    </tr>\n    <tr>\n      <th>min</th>\n      <td>0.000000</td>\n      <td>0.600001</td>\n      <td>0.000000</td>\n      <td>0.000033</td>\n      <td>0.000033</td>\n    </tr>\n    <tr>\n      <th>25%</th>\n      <td>144444.000000</td>\n      <td>0.681105</td>\n      <td>0.066667</td>\n      <td>0.012171</td>\n      <td>0.000707</td>\n    </tr>\n    <tr>\n      <th>50%</th>\n      <td>288888.000000</td>\n      <td>0.754439</td>\n      <td>0.141791</td>\n      <td>0.806795</td>\n      <td>0.085133</td>\n    </tr>\n    <tr>\n      <th>75%</th>\n      <td>433332.000000</td>\n      <td>0.831244</td>\n      <td>0.238095</td>\n      <td>0.990469</td>\n      <td>0.973739</td>\n    </tr>\n    <tr>\n      <th>max</th>\n      <td>577776.000000</td>\n      <td>0.950000</td>\n      <td>0.400000</td>\n      <td>0.999724</td>\n      <td>0.999730</td>\n    </tr>\n  </tbody>\n</table>\n</div>"
     },
     "execution_count": 11,
     "metadata": {},
     "output_type": "execute_result"
    }
   ],
   "source": [
    "data_description"
   ],
   "metadata": {
    "collapsed": false,
    "ExecuteTime": {
     "end_time": "2023-11-05T20:59:12.578780500Z",
     "start_time": "2023-11-05T20:59:12.561780600Z"
    }
   },
   "id": "3de8f696efa5155"
  },
  {
   "cell_type": "code",
   "execution_count": 12,
   "outputs": [
    {
     "data": {
      "text/plain": "Unnamed: 0     0\nreference      0\ntranslation    0\nsimilarity     0\nlenght_diff    0\nref_tox        0\ntrn_tox        0\ndtype: int64"
     },
     "execution_count": 12,
     "metadata": {},
     "output_type": "execute_result"
    }
   ],
   "source": [
    "missing_values"
   ],
   "metadata": {
    "collapsed": false,
    "ExecuteTime": {
     "end_time": "2023-11-05T20:59:12.599781700Z",
     "start_time": "2023-11-05T20:59:12.577780800Z"
    }
   },
   "id": "af1b0aac3e967f39"
  },
  {
   "cell_type": "code",
   "execution_count": 13,
   "outputs": [
    {
     "data": {
      "text/plain": "count    577777.000000\nmean          0.541372\nstd           0.457571\nmin           0.000033\n25%           0.012171\n50%           0.806795\n75%           0.990469\nmax           0.999724\nName: ref_tox, dtype: float64"
     },
     "execution_count": 13,
     "metadata": {},
     "output_type": "execute_result"
    }
   ],
   "source": [
    "toxicity_distribution_ref"
   ],
   "metadata": {
    "collapsed": false,
    "ExecuteTime": {
     "end_time": "2023-11-05T20:59:12.637782400Z",
     "start_time": "2023-11-05T20:59:12.593782Z"
    }
   },
   "id": "42289fe6c5dc1413"
  },
  {
   "cell_type": "code",
   "execution_count": 14,
   "outputs": [
    {
     "data": {
      "text/plain": "count    577777.000000\nmean          0.434490\nstd           0.458904\nmin           0.000033\n25%           0.000707\n50%           0.085133\n75%           0.973739\nmax           0.999730\nName: trn_tox, dtype: float64"
     },
     "execution_count": 14,
     "metadata": {},
     "output_type": "execute_result"
    }
   ],
   "source": [
    "toxicity_distribution_trn"
   ],
   "metadata": {
    "collapsed": false,
    "ExecuteTime": {
     "end_time": "2023-11-05T20:59:12.646782600Z",
     "start_time": "2023-11-05T20:59:12.609781100Z"
    }
   },
   "id": "a18a4aa224a67057"
  },
  {
   "cell_type": "code",
   "execution_count": 15,
   "outputs": [
    {
     "data": {
      "text/plain": "0         0.014195\n1         0.065473\n2         0.213313\n3         0.053362\n4         0.009402\n            ...   \n577772    0.000121\n577773    0.996124\n577774    0.984538\n577775    0.991945\n577776    0.009480\nName: ref_tox, Length: 577777, dtype: float64"
     },
     "execution_count": 15,
     "metadata": {},
     "output_type": "execute_result"
    }
   ],
   "source": [
    "toxicity_levels_ref"
   ],
   "metadata": {
    "collapsed": false,
    "ExecuteTime": {
     "end_time": "2023-11-05T20:59:12.647782500Z",
     "start_time": "2023-11-05T20:59:12.625782100Z"
    }
   },
   "id": "487ac51f8bb0c564"
  },
  {
   "cell_type": "code",
   "execution_count": 16,
   "outputs": [
    {
     "data": {
      "text/plain": "0         0.981983\n1         0.999039\n2         0.985068\n3         0.994215\n4         0.999348\n            ...   \n577772    0.949143\n577773    0.215794\n577774    0.000049\n577775    0.000124\n577776    0.994174\nName: trn_tox, Length: 577777, dtype: float64"
     },
     "execution_count": 16,
     "metadata": {},
     "output_type": "execute_result"
    }
   ],
   "source": [
    "toxicity_levels_trn"
   ],
   "metadata": {
    "collapsed": false,
    "ExecuteTime": {
     "end_time": "2023-11-05T20:59:12.663782700Z",
     "start_time": "2023-11-05T20:59:12.640782400Z"
    }
   },
   "id": "796a43e5f154ff75"
  },
  {
   "cell_type": "code",
   "execution_count": 17,
   "outputs": [],
   "source": [
    "import matplotlib.pyplot as plt"
   ],
   "metadata": {
    "collapsed": false,
    "ExecuteTime": {
     "end_time": "2023-11-05T20:59:12.676783300Z",
     "start_time": "2023-11-05T20:59:12.656782400Z"
    }
   },
   "id": "56ab9598ee17d2eb"
  },
  {
   "cell_type": "code",
   "execution_count": 18,
   "outputs": [
    {
     "data": {
      "text/plain": "<Figure size 1400x600 with 2 Axes>",
      "image/png": "[encoded data removed]"
     },
     "metadata": {},
     "output_type": "display_data"
    }
   ],
   "source": [
    "# Plotting histograms for toxicity distribution\n",
    "plt.figure(figsize=(14, 6))\n",
    "\n",
    "# Histogram for reference toxicity levels\n",
    "plt.subplot(1, 2, 1)\n",
    "plt.hist(toxicity_levels_ref, bins=50, color='blue', alpha=0.7)\n",
    "plt.title('Distribution of Reference Toxicity Levels')\n",
    "plt.xlabel('Toxicity Level')\n",
    "plt.ylabel('Frequency')\n",
    "\n",
    "# Histogram for translation toxicity levels\n",
    "plt.subplot(1, 2, 2)\n",
    "plt.hist(toxicity_levels_trn, bins=50, color='green', alpha=0.7)\n",
    "plt.title('Distribution of Translation Toxicity Levels')\n",
    "plt.xlabel('Toxicity Level')\n",
    "plt.ylabel('Frequency')\n",
    "\n",
    "# Show the plot\n",
    "plt.tight_layout()\n",
    "plt.show()"
   ],
   "metadata": {
    "collapsed": false,
    "ExecuteTime": {
     "end_time": "2023-11-05T20:59:12.890787200Z",
     "start_time": "2023-11-05T20:59:12.674783100Z"
    }
   },
   "id": "990a239c58a03287"
  },
  {
   "cell_type": "markdown",
   "source": [
    "The histograms show the distribution of toxicity levels for both reference and translation sentences:\n",
    "\n",
    "- The blue histogram represents the toxicity levels of the reference sentences. It shows a bimodal distribution with peaks at the lower and higher ends of the toxicity scale, indicating that the dataset contains a mix of sentences with low and high levels of toxicity.\n",
    "- The green histogram represents the toxicity levels of the translation sentences. This distribution is more skewed towards lower toxicity levels, which is expected since these sentences are the detoxified versions of their reference counterparts."
   ],
   "metadata": {
    "collapsed": false
   },
   "id": "6cefda222b1ff120"
  }
 ],
 "metadata": {
  "kernelspec": {
   "display_name": "Python 3",
   "language": "python",
   "name": "python3"
  },
  "language_info": {
   "codemirror_mode": {
    "name": "ipython",
    "version": 2
   },
   "file_extension": ".py",
   "mimetype": "text/x-python",
   "name": "python",
   "nbconvert_exporter": "python",
   "pygments_lexer": "ipython2",
   "version": "2.7.6"
  }
 },
 "nbformat": 4,
 "nbformat_minor": 5
}
